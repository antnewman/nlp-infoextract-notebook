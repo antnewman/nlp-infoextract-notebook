{
  "nbformat": 4,
  "nbformat_minor": 0,
  "metadata": {
    "colab": {
      "name": "nlp-infoextract.ipynb",
      "provenance": [],
      "collapsed_sections": [],
      "include_colab_link": true
    },
    "kernelspec": {
      "name": "python3",
      "display_name": "Python 3"
    }
  },
  "cells": [
    {
      "cell_type": "markdown",
      "metadata": {
        "id": "view-in-github",
        "colab_type": "text"
      },
      "source": [
        "<a href=\"https://colab.research.google.com/github/antnewman/nlp-infoextract-notebook/blob/main/nlp_infoextract.ipynb\" target=\"_parent\"><img src=\"https://colab.research.google.com/assets/colab-badge.svg\" alt=\"Open In Colab\"/></a>"
      ]
    },
    {
      "cell_type": "markdown",
      "metadata": {
        "id": "KxSH4UTtCr7q"
      },
      "source": [
        "# Information Extraction Notebook"
      ]
    },
    {
      "cell_type": "markdown",
      "metadata": {
        "id": "WL2OE3ErCztk"
      },
      "source": [
        "**Information Extraction**\r\n",
        "\r\n",
        "There is a plethora of information obtained within text data. Usually, some will be relevant and some irrelevant. Sometimes one might want to extract the names of entities, other times the relationships between certain entities."
      ]
    },
    {
      "cell_type": "markdown",
      "metadata": {
        "id": "Q0Ok9iuzDg4P"
      },
      "source": [
        "# Setup"
      ]
    },
    {
      "cell_type": "markdown",
      "metadata": {
        "id": "sevfl1ROYvsK"
      },
      "source": [
        "Check Python version and install appropriate minicoda."
      ]
    },
    {
      "cell_type": "code",
      "metadata": {
        "id": "Gg03BjLJXC2D"
      },
      "source": [
        "!which python # should return /usr/local/bin/python\r\n",
        "!python --version"
      ],
      "execution_count": null,
      "outputs": []
    },
    {
      "cell_type": "code",
      "metadata": {
        "id": "snsxc7n8XHIy"
      },
      "source": [
        "!echo $PYTHONPATH # If /env/python then unset the path, becaue this directory doesn't seeem to exist within the Google Colab file system "
      ],
      "execution_count": null,
      "outputs": []
    },
    {
      "cell_type": "markdown",
      "metadata": {
        "id": "579hTEHyfXRi"
      },
      "source": [
        "Unset pythonpath variable before installing Miniconda as it can cause problems if there are packages installed and accessible via directories included in the PYTHONPATH that are not compatible with the version of Python included with Miniconda."
      ]
    },
    {
      "cell_type": "code",
      "metadata": {
        "id": "GoATOeZnXuw8"
      },
      "source": [
        "%env PYTHONPATH="
      ],
      "execution_count": null,
      "outputs": []
    },
    {
      "cell_type": "markdown",
      "metadata": {
        "id": "uxnXxPObYgle"
      },
      "source": [
        "**Installing Miniconda**\r\n",
        "\r\n",
        "Download the installer script for the appropriate version of Miniconda and install it into /usr/local. \r\n",
        "\r\n",
        "Installing directly into /usr/local, rather than into the default location ~/miniconda3, insures that Conda and all its required dependencies will be automatically available for use within Google Colab."
      ]
    },
    {
      "cell_type": "code",
      "metadata": {
        "id": "5M59nXG6Y8jr"
      },
      "source": [
        "%%bash\r\n",
        "MINICONDA_INSTALLER_SCRIPT=Miniconda3-4.5.4-Linux-x86_64.sh\r\n",
        "MINICONDA_PREFIX=/usr/local\r\n",
        "wget https://repo.continuum.io/miniconda/$MINICONDA_INSTALLER_SCRIPT\r\n",
        "chmod +x $MINICONDA_INSTALLER_SCRIPT\r\n",
        "./$MINICONDA_INSTALLER_SCRIPT -b -f -p $MINICONDA_PREFIX"
      ],
      "execution_count": null,
      "outputs": []
    },
    {
      "cell_type": "markdown",
      "metadata": {
        "id": "CSd_jlckZKbF"
      },
      "source": [
        "Verify that:\r\n",
        "- the conda executable is available\r\n",
        "- the version is correct\r\n",
        "- Installing has not impacted the python executable\r\n",
        "- Verify which version of Python has been install by Miniconda"
      ]
    },
    {
      "cell_type": "code",
      "metadata": {
        "id": "BkMBp4ZfZODQ"
      },
      "source": [
        "!which conda # should return /usr/local/bin/conda\r\n",
        "!conda --version # should return 4.5.4\r\n",
        "!which python # still returns /usr/local/bin/python\r\n",
        "!python --version # now returns Python 3.6.5 :: Anaconda, Inc."
      ],
      "execution_count": null,
      "outputs": []
    },
    {
      "cell_type": "markdown",
      "metadata": {
        "id": "iWOJwAnlf7dw"
      },
      "source": [
        "**Updating Conda**\r\n",
        "\r\n",
        "We need to update Conda and its dependencies to their most recent versions without updating Python beyond 3.7."
      ]
    },
    {
      "cell_type": "code",
      "metadata": {
        "id": "RIZjRo_1gNXN"
      },
      "source": [
        "%%bash\r\n",
        "\r\n",
        "# Updates Conda to the most recent version, but hold Python version fixed at 3.7\r\n",
        "conda install --channel defaults conda python=3.7 --yes\r\n",
        "\r\n",
        "# Updates all of Conda’s dependencies to their most recent versions.\r\n",
        "conda update --channel defaults --all --yes "
      ],
      "execution_count": null,
      "outputs": []
    },
    {
      "cell_type": "markdown",
      "metadata": {
        "id": "QGau-xy8hDGg"
      },
      "source": [
        "Check versions of conda and python."
      ]
    },
    {
      "cell_type": "code",
      "metadata": {
        "id": "nAEflHjEhCOr"
      },
      "source": [
        "!conda --version # now returns 4.9.2\r\n",
        "!python --version # now returns Python 3.7.9 :: Anaconda, Inc."
      ],
      "execution_count": null,
      "outputs": []
    },
    {
      "cell_type": "markdown",
      "metadata": {
        "id": "zXSlIdfpha2_"
      },
      "source": [
        "**Append to** *sys.path* \r\n",
        "\r\n",
        "We need to add the directory, to which Conda will install packages to the list of directories that Python will search when looking for modules to import.\r\n",
        "\r\n",
        "Check the current list of dirs that Python will search by inspecting the *sys.path*."
      ]
    },
    {
      "cell_type": "code",
      "metadata": {
        "id": "vUuKJMN2h5MZ"
      },
      "source": [
        "import sys\r\n",
        "sys.path"
      ],
      "execution_count": null,
      "outputs": []
    },
    {
      "cell_type": "markdown",
      "metadata": {
        "id": "Ro-pMiv_iCOU"
      },
      "source": [
        "Pre-installed packages are in dist-packages. Conda installed packages are in site-packages."
      ]
    },
    {
      "cell_type": "code",
      "metadata": {
        "id": "PbeS0XhUionk"
      },
      "source": [
        "!ls /usr/local/lib/python3.7/dist-packages"
      ],
      "execution_count": null,
      "outputs": []
    },
    {
      "cell_type": "code",
      "metadata": {
        "id": "cwXHe2jGi9Zt"
      },
      "source": [
        "import sys\r\n",
        "_ = (sys.path\r\n",
        "from py2neo import Graph        .append(\"/usr/local/lib/python3.7/site-packages\"))"
      ],
      "execution_count": null,
      "outputs": []
    },
    {
      "cell_type": "markdown",
      "metadata": {
        "id": "lAuTg5gmjEwN"
      },
      "source": [
        "Note that the dist-packages directory containing the pre-installed Colab packages appears ahead of the site-packages directory where Conda installs packages, henceforth the version of a package available via Colab will take precedence over any version of the same package installed via Conda."
      ]
    },
    {
      "cell_type": "markdown",
      "metadata": {
        "id": "BZUF9tqRjvm4"
      },
      "source": [
        "**Installing packages**\r\n",
        "\r\n",
        "Remember to include the --yes flag when installing packages to avoid getting prompted to confirm the package plan."
      ]
    },
    {
      "cell_type": "code",
      "metadata": {
        "id": "zc3gtdD2kL3i"
      },
      "source": [
        "!conda install --channel conda-forge featuretools --yes\r\n",
        "!conda install -c conda-forge py2neo --yes\r\n",
        "!conda install -c conda-forge neuralcoref --yes"
      ],
      "execution_count": null,
      "outputs": []
    },
    {
      "cell_type": "markdown",
      "metadata": {
        "id": "wx8E0_L2JvDo"
      },
      "source": [
        "**Import**"
      ]
    },
    {
      "cell_type": "code",
      "metadata": {
        "id": "03ysyhQeJwMW"
      },
      "source": [
        "from py2neo import Graph\r\n",
        "\r\n",
        "import spacy\r\n",
        "import urllib\r\n",
        "import neuralcoref\r\n",
        "import itertools\r\n",
        "import json\r\n",
        "from string import punctuation\r\n",
        "import nltk\r\n",
        "\r\n",
        "from string import punctuation\r\n",
        "from flask import Flask, request\r\n",
        "from string import punctuation\r\n"
      ],
      "execution_count": null,
      "outputs": []
    },
    {
      "cell_type": "markdown",
      "metadata": {
        "id": "YChSI4Epo22o"
      },
      "source": [
        "**Connect to Neo4J Sandbox**"
      ]
    },
    {
      "cell_type": "code",
      "metadata": {
        "id": "xJoF92k1JxFY"
      },
      "source": [
        "# Change the line of code below to use your Bolt URL, and Password of your Sandbox.\r\n",
        "# graph = Graph(\"<Bolt URL>\", auth=(\"neo4j\", \"<Password>\"))\r\n",
        "graph = Graph(\"bolt://3.84.29.113:7687\", auth=(\"neo4j\", \"distortions-capability-flower\"))"
      ],
      "execution_count": null,
      "outputs": []
    },
    {
      "cell_type": "markdown",
      "metadata": {
        "id": "ZZ_ORDJIFXO4"
      },
      "source": [
        "**Set Entity Types**"
      ]
    },
    {
      "cell_type": "code",
      "metadata": {
        "id": "bgYEfrsHFbI3"
      },
      "source": [
        "ENTITY_TYPES = [\"human\", \"person\", \"company\", \"enterprise\", \"business\", \"geographic region\",\r\n",
        "                \"human settlement\", \"geographic entity\", \"territorial entity type\", \"organization\"]"
      ],
      "execution_count": null,
      "outputs": []
    }
  ]
}