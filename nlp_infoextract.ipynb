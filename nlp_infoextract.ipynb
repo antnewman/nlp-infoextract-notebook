{
  "nbformat": 4,
  "nbformat_minor": 0,
  "metadata": {
    "colab": {
      "name": "nlp-infoextract.ipynb",
      "provenance": [],
      "collapsed_sections": [],
      "include_colab_link": true
    },
    "kernelspec": {
      "name": "python3",
      "display_name": "Python 3"
    }
  },
  "cells": [
    {
      "cell_type": "markdown",
      "metadata": {
        "id": "view-in-github",
        "colab_type": "text"
      },
      "source": [
        "<a href=\"https://colab.research.google.com/github/antnewman/nlp-infoextract-notebook/blob/main/nlp_infoextract.ipynb\" target=\"_parent\"><img src=\"https://colab.research.google.com/assets/colab-badge.svg\" alt=\"Open In Colab\"/></a>"
      ]
    },
    {
      "cell_type": "markdown",
      "metadata": {
        "id": "KxSH4UTtCr7q"
      },
      "source": [
        "# Information Extraction Notebook"
      ]
    },
    {
      "cell_type": "markdown",
      "metadata": {
        "id": "WL2OE3ErCztk"
      },
      "source": [
        "**Information Extraction**\r\n",
        "\r\n",
        "There is a plethora of information obtained within text data. Usually, some will be relevant and some irrelevant. Sometimes one might want to extract the names of entities, other times the relationships between certain entities."
      ]
    },
    {
      "cell_type": "markdown",
      "metadata": {
        "id": "Q0Ok9iuzDg4P"
      },
      "source": [
        "# Setup"
      ]
    },
    {
      "cell_type": "markdown",
      "metadata": {
        "id": "sevfl1ROYvsK"
      },
      "source": [
        "Check Python version and install appropriate minicoda."
      ]
    },
    {
      "cell_type": "code",
      "metadata": {
        "id": "Gg03BjLJXC2D"
      },
      "source": [
        "!which python # should return /usr/local/bin/python\r\n",
        "!python --version"
      ],
      "execution_count": null,
      "outputs": []
    },
    {
      "cell_type": "code",
      "metadata": {
        "id": "snsxc7n8XHIy"
      },
      "source": [
        "!echo $PYTHONPATH # If /env/python then unset the path, becaue this directory doesn't seeem to exist within the Google Colab file system "
      ],
      "execution_count": null,
      "outputs": []
    },
    {
      "cell_type": "markdown",
      "metadata": {
        "id": "579hTEHyfXRi"
      },
      "source": [
        "Unset pythonpath variable before installing Miniconda as it can cause problems if there are packages installed and accessible via directories included in the PYTHONPATH that are not compatible with the version of Python included with Miniconda."
      ]
    },
    {
      "cell_type": "code",
      "metadata": {
        "id": "GoATOeZnXuw8"
      },
      "source": [
        "%env PYTHONPATH="
      ],
      "execution_count": null,
      "outputs": []
    },
    {
      "cell_type": "markdown",
      "metadata": {
        "id": "uxnXxPObYgle"
      },
      "source": [
        "**Installing Miniconda**\r\n",
        "\r\n",
        "Download the installer script for the appropriate version of Miniconda and install it into /usr/local. \r\n",
        "\r\n",
        "Installing directly into /usr/local, rather than into the default location ~/miniconda3, insures that Conda and all its required dependencies will be automatically available for use within Google Colab."
      ]
    },
    {
      "cell_type": "code",
      "metadata": {
        "id": "5M59nXG6Y8jr"
      },
      "source": [
        "%%bash\r\n",
        "MINICONDA_INSTALLER_SCRIPT=Miniconda3-4.5.4-Linux-x86_64.sh\r\n",
        "MINICONDA_PREFIX=/usr/local\r\n",
        "wget https://repo.continuum.io/miniconda/$MINICONDA_INSTALLER_SCRIPT\r\n",
        "chmod +x $MINICONDA_INSTALLER_SCRIPT\r\n",
        "./$MINICONDA_INSTALLER_SCRIPT -b -f -p $MINICONDA_PREFIX"
      ],
      "execution_count": null,
      "outputs": []
    },
    {
      "cell_type": "markdown",
      "metadata": {
        "id": "CSd_jlckZKbF"
      },
      "source": [
        "Verify that:\r\n",
        "- the conda executable is available\r\n",
        "- the version is correct\r\n",
        "- Installing has not impacted the python executable\r\n",
        "- Verify which version of Python has been install by Miniconda"
      ]
    },
    {
      "cell_type": "code",
      "metadata": {
        "id": "BkMBp4ZfZODQ"
      },
      "source": [
        "!which conda # should return /usr/local/bin/conda\r\n",
        "!conda --version # should return 4.5.4\r\n",
        "!which python # still returns /usr/local/bin/python\r\n",
        "!python --version # now returns Python 3.6.5 :: Anaconda, Inc."
      ],
      "execution_count": null,
      "outputs": []
    },
    {
      "cell_type": "markdown",
      "metadata": {
        "id": "iWOJwAnlf7dw"
      },
      "source": [
        "**Updating Conda**\r\n",
        "\r\n",
        "We need to update Conda and its dependencies to their most recent versions without updating Python beyond 3.7."
      ]
    },
    {
      "cell_type": "code",
      "metadata": {
        "id": "RIZjRo_1gNXN"
      },
      "source": [
        "%%bash\r\n",
        "\r\n",
        "# Updates Conda to the most recent version, but hold Python version fixed at 3.7\r\n",
        "conda install --channel defaults conda python=3.7 --yes\r\n",
        "\r\n",
        "# Updates all of Conda’s dependencies to their most recent versions.\r\n",
        "conda update --channel defaults --all --yes "
      ],
      "execution_count": null,
      "outputs": []
    },
    {
      "cell_type": "markdown",
      "metadata": {
        "id": "QGau-xy8hDGg"
      },
      "source": [
        "Check versions of conda and python."
      ]
    },
    {
      "cell_type": "code",
      "metadata": {
        "id": "nAEflHjEhCOr"
      },
      "source": [
        "!conda --version # now returns 4.9.2\r\n",
        "!python --version # now returns Python 3.7.9 :: Anaconda, Inc."
      ],
      "execution_count": null,
      "outputs": []
    },
    {
      "cell_type": "markdown",
      "metadata": {
        "id": "zXSlIdfpha2_"
      },
      "source": [
        "**Append to** *sys.path* \r\n",
        "\r\n",
        "We need to add the directory, to which Conda will install packages to the list of directories that Python will search when looking for modules to import.\r\n",
        "\r\n",
        "Check the current list of dirs that Python will search by inspecting the *sys.path*."
      ]
    },
    {
      "cell_type": "code",
      "metadata": {
        "id": "vUuKJMN2h5MZ"
      },
      "source": [
        "import sys\r\n",
        "sys.path"
      ],
      "execution_count": null,
      "outputs": []
    },
    {
      "cell_type": "markdown",
      "metadata": {
        "id": "Ro-pMiv_iCOU"
      },
      "source": [
        "Pre-installed packages are in dist-packages. Conda installed packages are in site-packages."
      ]
    },
    {
      "cell_type": "code",
      "metadata": {
        "id": "PbeS0XhUionk"
      },
      "source": [
        "!ls /usr/local/lib/python3.7/dist-packages"
      ],
      "execution_count": null,
      "outputs": []
    },
    {
      "cell_type": "code",
      "metadata": {
        "id": "cwXHe2jGi9Zt"
      },
      "source": [
        "import sys\r\n",
        "_ = (sys.path.append(\"/usr/local/lib/python3.7/site-packages\"))"
      ],
      "execution_count": null,
      "outputs": []
    },
    {
      "cell_type": "markdown",
      "metadata": {
        "id": "lAuTg5gmjEwN"
      },
      "source": [
        "Note that the dist-packages directory containing the pre-installed Colab packages appears ahead of the site-packages directory where Conda installs packages, henceforth the version of a package available via Colab will take precedence over any version of the same package installed via Conda."
      ]
    },
    {
      "cell_type": "markdown",
      "metadata": {
        "id": "BZUF9tqRjvm4"
      },
      "source": [
        "**Installing packages**\r\n",
        "\r\n",
        "Remember to include the --yes flag when installing packages to avoid getting prompted to confirm the package plan."
      ]
    },
    {
      "cell_type": "code",
      "metadata": {
        "id": "zc3gtdD2kL3i",
        "colab": {
          "base_uri": "https://localhost:8080/"
        },
        "outputId": "f3cd6892-5524-41c3-8683-e1e012e04083"
      },
      "source": [
        "!conda install --channel conda-forge featuretools --yes\r\n",
        "!conda install -c conda-forge py2neo --yes\r\n",
        "!conda install -c conda-forge neuralcoref --yes"
      ],
      "execution_count": null,
      "outputs": [
        {
          "output_type": "stream",
          "text": [
            "Collecting package metadata (current_repodata.json): - \b\b\\ \b\b| \b\b/ \b\b- \b\b\\ \b\b| \b\b/ \b\b- \b\b\\ \b\b| \b\b/ \b\b- \b\b\\ \b\b| \b\b/ \b\b- \b\b\\ \b\b| \b\b/ \b\b- \b\b\\ \b\b| \b\b/ \b\b- \b\b\\ \b\b| \b\b/ \b\b- \b\b\\ \b\b| \b\b/ \b\b- \b\b\\ \b\b| \b\b/ \b\b- \b\b\\ \b\b| \b\b/ \b\b- \b\b\\ \b\b| \b\b/ \b\b- \b\b\\ \b\b| \b\b/ \b\b- \b\b\\ \b\b| \b\b/ \b\b- \b\b\\ \b\b| \b\b/ \b\b- \b\b\\ \b\b| \b\b/ \b\b- \b\b\\ \b\b| \b\b/ \b\b- \b\b\\ \b\b| \b\b/ \b\b- \b\b\\ \b\b| \b\b/ \b\b- \b\b\\ \b\b| \b\b/ \b\b- \b\b\\ \b\b| \b\b/ \b\b- \b\b\\ \b\bdone\n",
            "Solving environment: / \b\b- \b\b\\ \b\b| \b\b/ \b\b- \b\b\\ \b\b| \b\b/ \b\b- \b\b\\ \b\b| \b\b/ \b\b- \b\b\\ \b\b| \b\b/ \b\b- \b\b\\ \b\b| \b\b/ \b\b- \b\b\\ \b\b| \b\b/ \b\b- \b\b\\ \b\b| \b\b/ \b\b- \b\b\\ \b\b| \b\b/ \b\b- \b\b\\ \b\b| \b\bdone\n",
            "\n",
            "# All requested packages already installed.\n",
            "\n",
            "Collecting package metadata (current_repodata.json): - \b\b\\ \b\b| \b\b/ \b\b- \b\b\\ \b\b| \b\b/ \b\b- \b\b\\ \b\b| \b\b/ \b\b- \b\b\\ \b\b| \b\b/ \b\b- \b\b\\ \b\b| \b\b/ \b\b- \b\b\\ \b\b| \b\bdone\n",
            "Solving environment: - \b\b\\ \b\b| \b\b/ \b\b- \b\b\\ \b\b| \b\b/ \b\b- \b\b\\ \b\b| \b\b/ \b\b- \b\b\\ \b\b| \b\b/ \b\b- \b\b\\ \b\b| \b\b/ \b\b- \b\b\\ \b\b| \b\b/ \b\b- \b\b\\ \b\b| \b\b/ \b\b- \b\bdone\n",
            "\n",
            "# All requested packages already installed.\n",
            "\n",
            "Collecting package metadata (current_repodata.json): - \b\b\\ \b\b| \b\b/ \b\b- \b\b\\ \b\b| \b\b/ \b\b- \b\b\\ \b\b| \b\b/ \b\b- \b\b\\ \b\b| \b\b/ \b\b- \b\b\\ \b\b| \b\b/ \b\b- \b\b\\ \b\b| \b\bdone\n",
            "Solving environment: - \b\b\\ \b\b| \b\b/ \b\b- \b\b\\ \b\b| \b\b/ \b\b- \b\b\\ \b\b| \b\b/ \b\b- \b\b\\ \b\b| \b\b/ \b\b- \b\b\\ \b\b| \b\b/ \b\b- \b\b\\ \b\b| \b\b/ \b\b- \b\b\\ \b\b| \b\b/ \b\b- \b\b\\ \b\b| \b\b/ \b\b- \b\b\\ \b\b| \b\b/ \b\bdone\n",
            "\n",
            "# All requested packages already installed.\n",
            "\n"
          ],
          "name": "stdout"
        }
      ]
    },
    {
      "cell_type": "markdown",
      "metadata": {
        "id": "wx8E0_L2JvDo"
      },
      "source": [
        "**Import**"
      ]
    },
    {
      "cell_type": "code",
      "metadata": {
        "id": "03ysyhQeJwMW",
        "colab": {
          "base_uri": "https://localhost:8080/",
          "height": 368
        },
        "outputId": "ec7f2e46-7e83-4a6f-eb2d-177b31f9c6cd"
      },
      "source": [
        "from py2neo import Graph\r\n",
        "\r\n",
        "import spacy\r\n",
        "import neuralcoref\r\n",
        "import itertools\r\n",
        "import json\r\n",
        "from string import punctuation\r\n",
        "import nltk\r\n",
        "\r\n",
        "from string import punctuation\r\n",
        "from flask import Flask, request\r\n",
        "from string import punctuation\r\n",
        "from urllib.request import urlopen"
      ],
      "execution_count": null,
      "outputs": [
        {
          "output_type": "error",
          "ename": "ModuleNotFoundError",
          "evalue": "ignored",
          "traceback": [
            "\u001b[0;31m---------------------------------------------------------------------------\u001b[0m",
            "\u001b[0;31mModuleNotFoundError\u001b[0m                       Traceback (most recent call last)",
            "\u001b[0;32m<ipython-input-9-e3cbadcd75b1>\u001b[0m in \u001b[0;36m<module>\u001b[0;34m()\u001b[0m\n\u001b[0;32m----> 1\u001b[0;31m \u001b[0;32mfrom\u001b[0m \u001b[0mpy2neo\u001b[0m \u001b[0;32mimport\u001b[0m \u001b[0mGraph\u001b[0m\u001b[0;34m\u001b[0m\u001b[0;34m\u001b[0m\u001b[0m\n\u001b[0m\u001b[1;32m      2\u001b[0m \u001b[0;34m\u001b[0m\u001b[0m\n\u001b[1;32m      3\u001b[0m \u001b[0;32mimport\u001b[0m \u001b[0mspacy\u001b[0m\u001b[0;34m\u001b[0m\u001b[0;34m\u001b[0m\u001b[0m\n\u001b[1;32m      4\u001b[0m \u001b[0;32mimport\u001b[0m \u001b[0mneuralcoref\u001b[0m\u001b[0;34m\u001b[0m\u001b[0;34m\u001b[0m\u001b[0m\n\u001b[1;32m      5\u001b[0m \u001b[0;32mimport\u001b[0m \u001b[0mitertools\u001b[0m\u001b[0;34m\u001b[0m\u001b[0;34m\u001b[0m\u001b[0m\n",
            "\u001b[0;31mModuleNotFoundError\u001b[0m: No module named 'py2neo'",
            "",
            "\u001b[0;31m---------------------------------------------------------------------------\u001b[0;32m\nNOTE: If your import is failing due to a missing package, you can\nmanually install dependencies using either !pip or !apt.\n\nTo view examples of installing some common dependencies, click the\n\"Open Examples\" button below.\n\u001b[0;31m---------------------------------------------------------------------------\u001b[0m\n"
          ]
        }
      ]
    },
    {
      "cell_type": "markdown",
      "metadata": {
        "id": "YChSI4Epo22o"
      },
      "source": [
        "**Connect to Neo4J Sandbox**"
      ]
    },
    {
      "cell_type": "code",
      "metadata": {
        "id": "xJoF92k1JxFY"
      },
      "source": [
        "# Change the line of code below to use your Bolt URL, and Password of your Sandbox.\r\n",
        "# graph = Graph(\"<Bolt URL>\", auth=(\"neo4j\", \"<Password>\"))\r\n",
        "graph = Graph(\"bolt://3.84.29.113:7687\", auth=(\"neo4j\", \"distortions-capability-flower\"))"
      ],
      "execution_count": null,
      "outputs": []
    },
    {
      "cell_type": "code",
      "metadata": {
        "id": "kXa-AlGMQbPs"
      },
      "source": [
        "def run_query(query, params={}):\r\n",
        "    with driver.session() as session:\r\n",
        "        result = session.run(query, params)\r\n",
        "        return pd.DataFrame([r.values() for r in result], columns=result.keys())"
      ],
      "execution_count": null,
      "outputs": []
    },
    {
      "cell_type": "markdown",
      "metadata": {
        "id": "ZZ_ORDJIFXO4"
      },
      "source": [
        "**Set Entity Types**"
      ]
    },
    {
      "cell_type": "markdown",
      "metadata": {
        "id": "7bTfey76Qwo0"
      },
      "source": [
        "IGNORE FOR NOW"
      ]
    },
    {
      "cell_type": "code",
      "metadata": {
        "id": "bgYEfrsHFbI3"
      },
      "source": [
        "# ENTITY_TYPES = [\"human\", \"person\", \"company\", \"enterprise\", \"business\", \"geographic region\",\r\n",
        "#                \"human settlement\", \"geographic entity\", \"territorial entity type\", \"organization\"]"
      ],
      "execution_count": null,
      "outputs": []
    },
    {
      "cell_type": "markdown",
      "metadata": {
        "id": "Ttr8yBisOW1y"
      },
      "source": [
        "# Coreference Resolution\r\n",
        "\r\n",
        "Here we want to find all expressions that refer to the same entity in a text. This is not only useful for our infomation extraction, but other higher level NLP tasks that involve natural language understanding such as document summarization and question answering."
      ]
    },
    {
      "cell_type": "code",
      "metadata": {
        "id": "K-E7uH_WO6Ih"
      },
      "source": [
        "# Load SpaCy\r\n",
        "nlp = spacy.load('en')\r\n",
        "\r\n",
        "# Add neuralcoref to SpaCy's pipe\r\n",
        "neuralcoref.add_to_pipe(nlp)\r\n",
        "\r\n",
        "def coref_resolution(text):\r\n",
        "    \"\"\"Function that executes coreference resolution on a given text\"\"\"\r\n",
        "    doc = nlp(text)\r\n",
        "    # fetches tokens with whitespaces from spacy document\r\n",
        "    tok_list = list(token.text_with_ws for token in doc)\r\n",
        "    for cluster in doc._.coref_clusters:\r\n",
        "        # get tokens from representative cluster name\r\n",
        "        cluster_main_words = set(cluster.main.text.split(' '))\r\n",
        "        for coref in cluster:\r\n",
        "            if coref != cluster.main:  # if coreference element is not the representative element of that cluster\r\n",
        "                if coref.text != cluster.main.text and bool(set(coref.text.split(' ')).intersection(cluster_main_words)) == False:\r\n",
        "                    # if coreference element text and representative element text are not equal and none of the coreference element words are in representative element. This was done to handle nested coreference scenarios\r\n",
        "                    tok_list[coref.start] = cluster.main.text + \\\r\n",
        "                        doc[coref.end-1].whitespace_\r\n",
        "                    for i in range(coref.start+1, coref.end):\r\n",
        "                        tok_list[i] = \"\"\r\n",
        "\r\n",
        "    return \"\".join(tok_list)"
      ],
      "execution_count": null,
      "outputs": []
    },
    {
      "cell_type": "markdown",
      "metadata": {
        "id": "OKdU4OhsQ12S"
      },
      "source": [
        "Make the info extraction pipeline"
      ]
    },
    {
      "cell_type": "code",
      "metadata": {
        "id": "rBG24H4_SYnt"
      },
      "source": [
        "def iep"
      ],
      "execution_count": null,
      "outputs": []
    },
    {
      "cell_type": "code",
      "metadata": {
        "id": "uphPgFsfPq-b"
      },
      "source": [
        "sample = \"\"\"Elizabeth was born in Mayfair, London, as the first child of the Duke and Duchess of York (later King George VI and Queen Elizabeth). Her father ascended the throne on the abdication of his brother King Edward VIII in 1936, from which time she was the heir presumptive. She was educated privately at home and began to undertake public duties during the Second World War, serving in the Auxiliary Territorial Service. In 1947 she married Philip, Duke of Edinburgh, a former prince of Greece and Denmark, with whom she has four children: Charles, Prince of Wales; Anne, Princess Royal; Prince Andrew, Duke of York; and Prince Edward, Earl of Wessex.\r\n",
        "\r\n",
        "When her father died in February 1952, Elizabeth became head of the Commonwealth and queen regnant of seven independent Commonwealth countries: the United Kingdom, Canada, Australia, New Zealand, South Africa, Pakistan, and Ceylon. She has reigned as a constitutional monarch through major political changes, such as devolution in the United Kingdom, accession of the United Kingdom to the European Communities, Brexit, Canadian patriation, and the decolonisation of Africa. Between 1956 and 1992, the number of her realms varied as territories gained independence, and as realms, including South Africa, Pakistan, and Ceylon (renamed Sri Lanka), became republics. Her many historic visits and meetings include a state visit to the Republic of Ireland and visits to or from five popes. Significant events have included her coronation in 1953 and the celebrations of her Silver, Golden, and Diamond Jubilees in 1977, 2002, and 2012, respectively. In 2017, she became the first British monarch to reach a Sapphire Jubilee. She is the longest-lived and longest-reigning British monarch. She is the longest-serving female head of state in world history, and the world's oldest living monarch, longest-reigning current monarch, and oldest and longest-serving current head of state.\r\n",
        "\r\n",
        "Elizabeth has occasionally faced republican sentiments and press criticism of the royal family, in particular after the breakdown of her children's marriages, her annus horribilis in 1992, and the death in 1997 of her former daughter-in-law Diana, Princess of Wales. However, support for the monarchy in the United Kingdom has been and remains consistently high, as does her personal popularity.\"\"\""
      ],
      "execution_count": null,
      "outputs": []
    },
    {
      "cell_type": "code",
      "metadata": {
        "id": "UGhTX4L8P_Fa",
        "colab": {
          "base_uri": "https://localhost:8080/"
        },
        "outputId": "07310094-f921-4bd5-d821-bc9db1014aba"
      },
      "source": [
        "print(sample)"
      ],
      "execution_count": null,
      "outputs": [
        {
          "output_type": "stream",
          "text": [
            "Elizabeth was born in Mayfair, London, as the first child of the Duke and Duchess of York (later King George VI and Queen Elizabeth). Her father ascended the throne on the abdication of his brother King Edward VIII in 1936, from which time she was the heir presumptive. She was educated privately at home and began to undertake public duties during the Second World War, serving in the Auxiliary Territorial Service. In 1947 she married Philip, Duke of Edinburgh, a former prince of Greece and Denmark, with whom she has four children: Charles, Prince of Wales; Anne, Princess Royal; Prince Andrew, Duke of York; and Prince Edward, Earl of Wessex.\n",
            "\n",
            "When her father died in February 1952, Elizabeth became head of the Commonwealth and queen regnant of seven independent Commonwealth countries: the United Kingdom, Canada, Australia, New Zealand, South Africa, Pakistan, and Ceylon. She has reigned as a constitutional monarch through major political changes, such as devolution in the United Kingdom, accession of the United Kingdom to the European Communities, Brexit, Canadian patriation, and the decolonisation of Africa. Between 1956 and 1992, the number of her realms varied as territories gained independence, and as realms, including South Africa, Pakistan, and Ceylon (renamed Sri Lanka), became republics. Her many historic visits and meetings include a state visit to the Republic of Ireland and visits to or from five popes. Significant events have included her coronation in 1953 and the celebrations of her Silver, Golden, and Diamond Jubilees in 1977, 2002, and 2012, respectively. In 2017, she became the first British monarch to reach a Sapphire Jubilee. She is the longest-lived and longest-reigning British monarch. She is the longest-serving female head of state in world history, and the world's oldest living monarch, longest-reigning current monarch, and oldest and longest-serving current head of state.\n",
            "\n",
            "Elizabeth has occasionally faced republican sentiments and press criticism of the royal family, in particular after the breakdown of her children's marriages, her annus horribilis in 1992, and the death in 1997 of her former daughter-in-law Diana, Princess of Wales. However, support for the monarchy in the United Kingdom has been and remains consistently high, as does her personal popularity.\n"
          ],
          "name": "stdout"
        }
      ]
    },
    {
      "cell_type": "code",
      "metadata": {
        "id": "3cUCSVFNSV8j"
      },
      "source": [
        ""
      ],
      "execution_count": null,
      "outputs": []
    }
  ]
}